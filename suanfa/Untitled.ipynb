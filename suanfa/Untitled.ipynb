{
 "cells": [
  {
   "cell_type": "code",
   "execution_count": 1,
   "id": "50d4feb9",
   "metadata": {},
   "outputs": [],
   "source": [
    "import pandas as pd\n",
    "import numpy as np\n",
    "from GetScenario1 import Scenario1 as Sc1\n",
    "import os"
   ]
  },
  {
   "cell_type": "code",
   "execution_count": 2,
   "id": "dbe683a2",
   "metadata": {},
   "outputs": [],
   "source": [
    "path = r'片区数据.xlsx'\n",
    "\n",
    "# 灵敏度\n",
    "path2 = r'灵敏度20231013.xlsx'\n",
    "\n",
    "# 断面数据 --- 很多个excel表\n",
    "path3 = r'数据整理'\n",
    "\n",
    "Data = pd.read_excel(path, sheet_name='Sheet1')  #片区原始数据\n",
    "S_0 = pd.read_excel(path2, sheet_name='Sheet1').to_numpy()   #灵敏度数据\n",
    "S_name = pd.read_excel(path2, sheet_name='Sheet1').iloc[0, 5:20].index.tolist()"
   ]
  },
  {
   "cell_type": "code",
   "execution_count": 3,
   "id": "8593e949",
   "metadata": {},
   "outputs": [],
   "source": [
    "S_0 = S_0[0:42, 5:20].T"
   ]
  },
  {
   "cell_type": "code",
   "execution_count": 4,
   "id": "6262b621",
   "metadata": {},
   "outputs": [],
   "source": [
    "Duanmian_Data = os.listdir(path3)"
   ]
  },
  {
   "cell_type": "code",
   "execution_count": 5,
   "id": "f0fc5ada",
   "metadata": {},
   "outputs": [],
   "source": [
    "S0 = []\n",
    "Sl = []\n",
    "Su = []\n",
    "for i in S_name:\n",
    "    tmp_flag = 0\n",
    "    for j in Duanmian_Data:\n",
    "        if i in j:\n",
    "            tmp_data = pd.read_excel(path3 + '\\\\' + j).to_numpy()\n",
    "            S0.append(tmp_data[:96, -3].tolist()) #实时值\n",
    "            Sl.append(tmp_data[:96, -1].tolist()) # 下线额 \n",
    "            Su.append(tmp_data[:96, -2].tolist()) #上线额\n",
    "            tmp_flag = 1\n",
    "    if tmp_flag == 0:\n",
    "        print(i)\n",
    "S0 = np.array(S0)\n",
    "Sl = np.array(Sl)\n",
    "Su = np.array(Su)"
   ]
  },
  {
   "cell_type": "code",
   "execution_count": 6,
   "id": "c3b68b6a",
   "metadata": {},
   "outputs": [],
   "source": [
    "Data_pianqu = Data.to_numpy()\n",
    "PRC_Hy = []\n",
    "NRC_Hy = []\n",
    "Hy = [6, 13, 20, 21, 24, 28, 29, 31, 32, 34, 35, 36, 38, 39, 41, 42]\n",
    "Ps = [9, 14, 23, 33, 35, 36]"
   ]
  },
  {
   "cell_type": "code",
   "execution_count": 7,
   "id": "64f84bd1",
   "metadata": {},
   "outputs": [],
   "source": [
    "for i in Hy:\n",
    "#     水电正备用\n",
    "    tmp_Hy_P = Data_pianqu[:, 15]\n",
    "    tmp_Hy_P = Data_pianqu[:, 15].reshape([96, 42])\n",
    "    PRC_Hy.append(tmp_Hy_P.T[i - 1, :])\n",
    "#     水电负备用\n",
    "    tmp_Hy_N = Data_pianqu[:, 19].reshape([96, 42])\n",
    "    NRC_Hy.append(tmp_Hy_N.T[i - 1, :])\n",
    "\n",
    "PRC_Hy = np.array(PRC_Hy)\n",
    "NRC_Hy = np.array(NRC_Hy)"
   ]
  },
  {
   "cell_type": "code",
   "execution_count": 8,
   "id": "6c1699a6",
   "metadata": {},
   "outputs": [],
   "source": [
    "PRC_Ps = []\n",
    "NRC_Ps = []\n",
    "\n",
    "for i in Ps:\n",
    "#     抽蓄正备用\n",
    "    tmp_Ps_P = Data_pianqu[:, 16].reshape([96, 42])\n",
    "    PRC_Ps.append(tmp_Ps_P.T[i - 1, :])\n",
    "#     抽蓄负备用\n",
    "    tmp_Ps_N = Data_pianqu[:, 20].reshape([96, 42])\n",
    "    NRC_Ps.append(tmp_Ps_N.T[i - 1, :])\n",
    "\n",
    "PRC_Ps = np.array(PRC_Ps)\n",
    "NRC_Ps = np.array(NRC_Ps)"
   ]
  },
  {
   "cell_type": "code",
   "execution_count": 11,
   "id": "b68e4ade",
   "metadata": {},
   "outputs": [
    {
     "data": {
      "text/plain": [
       "array([[2448, 2372, 2490, ..., 2299, 2291, 2305],\n",
       "       [0, 0, 0, ..., 0, 0, 0],\n",
       "       [372, 367, 372, ..., 371, 378, 368],\n",
       "       ...,\n",
       "       [0, 0, 0, ..., 0, 0, 0],\n",
       "       [1284, 1506, 1611, ..., 851, 956, 1087],\n",
       "       [1603, 1658, 1580, ..., 706, 806, 918]], dtype=object)"
      ]
     },
     "execution_count": 11,
     "metadata": {},
     "output_type": "execute_result"
    }
   ],
   "source": [
    "# 火电正备用\n",
    "PRC_F = Data_pianqu[:, 14]\n",
    "PRC_F = PRC_F.reshape([96, 42])\n",
    "# 火电负备用\n",
    "NRC_F = Data_pianqu[:, 18]\n",
    "NRC_F = NRC_F.reshape([96, 42])\n",
    "\n",
    "PRC_F = PRC_F.T\n",
    "NRC_F = NRC_F.T\n",
    "\n",
    "PRC_F"
   ]
  },
  {
   "cell_type": "code",
   "execution_count": 24,
   "id": "38450f73",
   "metadata": {},
   "outputs": [
    {
     "data": {
      "text/plain": [
       "array([2448, 0, 372, 3173, 1991, 2482, 363, 254, 1890, 1113, 639, 899,\n",
       "       1520, 1985, 979, 898, 4035, 601, 533, 80, 0, 1120, 348, 1203, 1000,\n",
       "       716, 427, 944, 230, 893, 440, 0, 180, 2200, 982, 983, 2030, 904,\n",
       "       1286, 0, 1284, 1603, 1662, 0, 0, 226, 154, 1020, 169, 401, 0, 4373,\n",
       "       0, 389, 34, 248, 145, 60, 1202, 1053, 1265, 0, 1200, 1200],\n",
       "      dtype=object)"
      ]
     },
     "execution_count": 24,
     "metadata": {},
     "output_type": "execute_result"
    }
   ],
   "source": [
    "PRC1 = np.hstack((PRC_F[0:42, 0], PRC_Hy[:, 0], PRC_Ps[:, 0]))\n",
    "\n",
    "NRC1 = np.hstack((NRC_F[0:42, 0], NRC_Hy[:, 0], NRC_Ps[:, 0]))\n",
    "\n",
    "PRC1"
   ]
  },
  {
   "cell_type": "code",
   "execution_count": 27,
   "id": "dd4aab0d",
   "metadata": {},
   "outputs": [],
   "source": [
    "# 实时用电  取绝对值\n",
    "load = np.abs(Data_pianqu[0:42, 12])\n",
    "Send_Sen = S_0[:, 0:42]\n",
    "Rec_Sen = S_0[:, 0:42]"
   ]
  },
  {
   "cell_type": "code",
   "execution_count": 28,
   "id": "44d8b92a",
   "metadata": {},
   "outputs": [
    {
     "ename": "ValueError",
     "evalue": "shapes (10,30) and (57,15) not aligned: 30 (dim 1) != 57 (dim 0)",
     "output_type": "error",
     "traceback": [
      "\u001b[1;31m---------------------------------------------------------------------------\u001b[0m",
      "\u001b[1;31mValueError\u001b[0m                                Traceback (most recent call last)",
      "Cell \u001b[1;32mIn[28], line 1\u001b[0m\n\u001b[1;32m----> 1\u001b[0m MPC \u001b[38;5;241m=\u001b[39m \u001b[43mSc1\u001b[49m\u001b[43m(\u001b[49m\n\u001b[0;32m      2\u001b[0m \u001b[43m    \u001b[49m\u001b[43mscenario\u001b[49m\u001b[38;5;241;43m=\u001b[39;49m\u001b[38;5;241;43m1\u001b[39;49m\u001b[43m,\u001b[49m\n\u001b[0;32m      3\u001b[0m \u001b[43m    \u001b[49m\u001b[43mPRC\u001b[49m\u001b[38;5;241;43m=\u001b[39;49m\u001b[43mPRC1\u001b[49m\u001b[38;5;241;43m.\u001b[39;49m\u001b[43mT\u001b[49m\u001b[43m,\u001b[49m\n\u001b[0;32m      4\u001b[0m \u001b[43m    \u001b[49m\u001b[43mNRC\u001b[49m\u001b[38;5;241;43m=\u001b[39;49m\u001b[43mNRC1\u001b[49m\u001b[38;5;241;43m.\u001b[39;49m\u001b[43mT\u001b[49m\u001b[43m,\u001b[49m\n\u001b[0;32m      5\u001b[0m \u001b[43m    \u001b[49m\u001b[43mSend_inf\u001b[49m\u001b[38;5;241;43m=\u001b[39;49m\u001b[43mnp\u001b[49m\u001b[38;5;241;43m.\u001b[39;49m\u001b[43mlinspace\u001b[49m\u001b[43m(\u001b[49m\u001b[38;5;241;43m1\u001b[39;49m\u001b[43m,\u001b[49m\u001b[43m \u001b[49m\u001b[38;5;241;43m42\u001b[39;49m\u001b[43m,\u001b[49m\u001b[43m \u001b[49m\u001b[38;5;241;43m42\u001b[39;49m\u001b[43m)\u001b[49m\u001b[43m,\u001b[49m\n\u001b[0;32m      6\u001b[0m \u001b[43m    \u001b[49m\u001b[43mRec_inf\u001b[49m\u001b[38;5;241;43m=\u001b[39;49m\u001b[43mnp\u001b[49m\u001b[38;5;241;43m.\u001b[39;49m\u001b[43mlinspace\u001b[49m\u001b[43m(\u001b[49m\u001b[38;5;241;43m1\u001b[39;49m\u001b[43m,\u001b[49m\u001b[43m \u001b[49m\u001b[38;5;241;43m42\u001b[39;49m\u001b[43m,\u001b[49m\u001b[43m \u001b[49m\u001b[38;5;241;43m42\u001b[39;49m\u001b[43m)\u001b[49m\u001b[43m,\u001b[49m\n\u001b[0;32m      7\u001b[0m \u001b[43m    \u001b[49m\u001b[43mscale\u001b[49m\u001b[38;5;241;43m=\u001b[39;49m\u001b[43mload\u001b[49m\u001b[43m,\u001b[49m\n\u001b[0;32m      8\u001b[0m \u001b[43m    \u001b[49m\u001b[43mS_name\u001b[49m\u001b[38;5;241;43m=\u001b[39;49m\u001b[43mS_name\u001b[49m\u001b[43m,\u001b[49m\n\u001b[0;32m      9\u001b[0m \u001b[43m    \u001b[49m\u001b[43mSend_Sen\u001b[49m\u001b[38;5;241;43m=\u001b[39;49m\u001b[43mSend_Sen\u001b[49m\u001b[43m,\u001b[49m\n\u001b[0;32m     10\u001b[0m \u001b[43m    \u001b[49m\u001b[43mRec_Sen\u001b[49m\u001b[38;5;241;43m=\u001b[39;49m\u001b[43mRec_Sen\u001b[49m\u001b[43m,\u001b[49m\n\u001b[0;32m     11\u001b[0m \u001b[43m    \u001b[49m\u001b[43mS_0\u001b[49m\u001b[38;5;241;43m=\u001b[39;49m\u001b[43mS0\u001b[49m\u001b[43m[\u001b[49m\u001b[43m:\u001b[49m\u001b[43m,\u001b[49m\u001b[43m \u001b[49m\u001b[38;5;241;43m0\u001b[39;49m\u001b[43m]\u001b[49m\u001b[43m,\u001b[49m\n\u001b[0;32m     12\u001b[0m \u001b[43m    \u001b[49m\u001b[43mS_l\u001b[49m\u001b[38;5;241;43m=\u001b[39;49m\u001b[43mSl\u001b[49m\u001b[43m[\u001b[49m\u001b[43m:\u001b[49m\u001b[43m,\u001b[49m\u001b[43m \u001b[49m\u001b[38;5;241;43m0\u001b[39;49m\u001b[43m]\u001b[49m\u001b[43m,\u001b[49m\n\u001b[0;32m     13\u001b[0m \u001b[43m    \u001b[49m\u001b[43mS_u\u001b[49m\u001b[38;5;241;43m=\u001b[39;49m\u001b[43mSu\u001b[49m\u001b[43m[\u001b[49m\u001b[43m:\u001b[49m\u001b[43m,\u001b[49m\u001b[43m \u001b[49m\u001b[38;5;241;43m0\u001b[39;49m\u001b[43m]\u001b[49m\u001b[43m,\u001b[49m\n\u001b[0;32m     14\u001b[0m \u001b[43m    \u001b[49m\u001b[43mHy\u001b[49m\u001b[38;5;241;43m=\u001b[39;49m\u001b[43m(\u001b[49m\u001b[43mnp\u001b[49m\u001b[38;5;241;43m.\u001b[39;49m\u001b[43marray\u001b[49m\u001b[43m(\u001b[49m\u001b[43mHy\u001b[49m\u001b[43m)\u001b[49m\u001b[43m \u001b[49m\u001b[38;5;241;43m-\u001b[39;49m\u001b[43m \u001b[49m\u001b[38;5;241;43m0\u001b[39;49m\u001b[43m)\u001b[49m\u001b[38;5;241;43m.\u001b[39;49m\u001b[43mtolist\u001b[49m\u001b[43m(\u001b[49m\u001b[43m)\u001b[49m\u001b[43m,\u001b[49m\n\u001b[0;32m     15\u001b[0m \u001b[43m    \u001b[49m\u001b[43mPs\u001b[49m\u001b[38;5;241;43m=\u001b[39;49m\u001b[43m(\u001b[49m\u001b[43mnp\u001b[49m\u001b[38;5;241;43m.\u001b[39;49m\u001b[43marray\u001b[49m\u001b[43m(\u001b[49m\u001b[43mPs\u001b[49m\u001b[43m)\u001b[49m\u001b[43m \u001b[49m\u001b[38;5;241;43m-\u001b[39;49m\u001b[43m \u001b[49m\u001b[38;5;241;43m0\u001b[39;49m\u001b[43m)\u001b[49m\u001b[38;5;241;43m.\u001b[39;49m\u001b[43mtolist\u001b[49m\u001b[43m(\u001b[49m\u001b[43m)\u001b[49m\u001b[43m,\u001b[49m\n\u001b[0;32m     16\u001b[0m \u001b[43m    \u001b[49m\u001b[43mIf_coup\u001b[49m\u001b[38;5;241;43m=\u001b[39;49m\u001b[38;5;241;43m0\u001b[39;49m\u001b[43m,\u001b[49m\n\u001b[0;32m     17\u001b[0m \u001b[43m    \u001b[49m\u001b[43mCoup_S_list1\u001b[49m\u001b[38;5;241;43m=\u001b[39;49m\u001b[43mnp\u001b[49m\u001b[38;5;241;43m.\u001b[39;49m\u001b[43marray\u001b[49m\u001b[43m(\u001b[49m\n\u001b[0;32m     18\u001b[0m \u001b[43m        \u001b[49m\u001b[43m[\u001b[49m\u001b[43m[\u001b[49m\u001b[38;5;241;43m3000\u001b[39;49m\u001b[43m,\u001b[49m\u001b[43m \u001b[49m\u001b[38;5;241;43m0\u001b[39;49m\u001b[43m,\u001b[49m\u001b[43m \u001b[49m\u001b[38;5;241;43m-\u001b[39;49m\u001b[38;5;241;43m1000\u001b[39;49m\u001b[43m,\u001b[49m\u001b[43m \u001b[49m\u001b[38;5;241;43m-\u001b[39;49m\u001b[38;5;241;43m3000\u001b[39;49m\u001b[43m,\u001b[49m\u001b[43m \u001b[49m\u001b[38;5;241;43m-\u001b[39;49m\u001b[38;5;241;43m5000\u001b[39;49m\u001b[43m,\u001b[49m\u001b[43m \u001b[49m\u001b[38;5;241;43m-\u001b[39;49m\u001b[38;5;241;43m5600\u001b[39;49m\u001b[43m,\u001b[49m\u001b[43m \u001b[49m\u001b[38;5;241;43m2300\u001b[39;49m\u001b[43m,\u001b[49m\u001b[43m \u001b[49m\u001b[38;5;241;43m400\u001b[39;49m\u001b[43m,\u001b[49m\u001b[43m \u001b[49m\u001b[38;5;241;43m-\u001b[39;49m\u001b[38;5;241;43m1300\u001b[39;49m\u001b[43m,\u001b[49m\u001b[43m \u001b[49m\u001b[38;5;241;43m-\u001b[39;49m\u001b[38;5;241;43m2200\u001b[39;49m\u001b[43m,\u001b[49m\u001b[43m \u001b[49m\u001b[38;5;241;43m-\u001b[39;49m\u001b[38;5;241;43m3400\u001b[39;49m\u001b[43m,\u001b[49m\u001b[43m \u001b[49m\u001b[38;5;241;43m-\u001b[39;49m\u001b[38;5;241;43m5000\u001b[39;49m\u001b[43m,\u001b[49m\u001b[43m \u001b[49m\u001b[38;5;241;43m-\u001b[39;49m\u001b[38;5;241;43m5600\u001b[39;49m\u001b[43m,\u001b[49m\u001b[43m \u001b[49m\u001b[38;5;241;43m-\u001b[39;49m\u001b[38;5;241;43m1500\u001b[39;49m\u001b[43m,\u001b[49m\u001b[43m \u001b[49m\u001b[38;5;241;43m1500\u001b[39;49m\u001b[43m]\u001b[49m\u001b[43m,\u001b[49m\n\u001b[0;32m     19\u001b[0m \u001b[43m         \u001b[49m\u001b[43m[\u001b[49m\u001b[38;5;241;43m-\u001b[39;49m\u001b[38;5;241;43m2500\u001b[39;49m\u001b[43m,\u001b[49m\u001b[43m \u001b[49m\u001b[38;5;241;43m-\u001b[39;49m\u001b[38;5;241;43m1500\u001b[39;49m\u001b[43m,\u001b[49m\u001b[43m \u001b[49m\u001b[38;5;241;43m-\u001b[39;49m\u001b[38;5;241;43m1000\u001b[39;49m\u001b[43m,\u001b[49m\u001b[43m \u001b[49m\u001b[38;5;241;43m-\u001b[39;49m\u001b[38;5;241;43m500\u001b[39;49m\u001b[43m,\u001b[49m\u001b[43m \u001b[49m\u001b[38;5;241;43m-\u001b[39;49m\u001b[38;5;241;43m0\u001b[39;49m\u001b[43m,\u001b[49m\u001b[43m \u001b[49m\u001b[38;5;241;43m500\u001b[39;49m\u001b[43m,\u001b[49m\u001b[43m \u001b[49m\u001b[38;5;241;43m-\u001b[39;49m\u001b[38;5;241;43m1800\u001b[39;49m\u001b[43m,\u001b[49m\u001b[43m \u001b[49m\u001b[38;5;241;43m-\u001b[39;49m\u001b[38;5;241;43m1500\u001b[39;49m\u001b[43m,\u001b[49m\u001b[43m \u001b[49m\u001b[38;5;241;43m-\u001b[39;49m\u001b[38;5;241;43m1200\u001b[39;49m\u001b[43m,\u001b[49m\u001b[43m \u001b[49m\u001b[38;5;241;43m-\u001b[39;49m\u001b[38;5;241;43m1000\u001b[39;49m\u001b[43m,\u001b[49m\u001b[43m \u001b[49m\u001b[38;5;241;43m-\u001b[39;49m\u001b[38;5;241;43m700\u001b[39;49m\u001b[43m,\u001b[49m\u001b[43m \u001b[49m\u001b[38;5;241;43m-\u001b[39;49m\u001b[38;5;241;43m0\u001b[39;49m\u001b[43m,\u001b[49m\u001b[43m \u001b[49m\u001b[38;5;241;43m500\u001b[39;49m\u001b[43m,\u001b[49m\u001b[43m \u001b[49m\u001b[38;5;241;43m-\u001b[39;49m\u001b[38;5;241;43m3300\u001b[39;49m\u001b[43m,\u001b[49m\u001b[43m \u001b[49m\u001b[38;5;241;43m-\u001b[39;49m\u001b[38;5;241;43m2800\u001b[39;49m\u001b[43m]\u001b[49m\u001b[43m]\u001b[49m\u001b[43m)\u001b[49m\u001b[43m,\u001b[49m\n\u001b[0;32m     20\u001b[0m \u001b[43m    \u001b[49m\u001b[43mCoup_S_list1_No\u001b[49m\u001b[38;5;241;43m=\u001b[39;49m\u001b[43mnp\u001b[49m\u001b[38;5;241;43m.\u001b[39;49m\u001b[43marray\u001b[49m\u001b[43m(\u001b[49m\n\u001b[0;32m     21\u001b[0m \u001b[43m        \u001b[49m\u001b[43m[\u001b[49m\u001b[43m[\u001b[49m\u001b[38;5;241;43m1\u001b[39;49m\u001b[43m,\u001b[49m\u001b[43m \u001b[49m\u001b[38;5;241;43m1\u001b[39;49m\u001b[43m,\u001b[49m\u001b[43m \u001b[49m\u001b[38;5;241;43m1\u001b[39;49m\u001b[43m,\u001b[49m\u001b[43m \u001b[49m\u001b[38;5;241;43m1\u001b[39;49m\u001b[43m,\u001b[49m\u001b[43m \u001b[49m\u001b[38;5;241;43m1\u001b[39;49m\u001b[43m,\u001b[49m\u001b[43m \u001b[49m\u001b[38;5;241;43m1\u001b[39;49m\u001b[43m,\u001b[49m\u001b[43m \u001b[49m\u001b[38;5;241;43m1\u001b[39;49m\u001b[43m,\u001b[49m\u001b[43m \u001b[49m\u001b[38;5;241;43m1\u001b[39;49m\u001b[43m,\u001b[49m\u001b[43m \u001b[49m\u001b[38;5;241;43m1\u001b[39;49m\u001b[43m,\u001b[49m\u001b[43m \u001b[49m\u001b[38;5;241;43m1\u001b[39;49m\u001b[43m,\u001b[49m\u001b[43m \u001b[49m\u001b[38;5;241;43m1\u001b[39;49m\u001b[43m,\u001b[49m\u001b[43m \u001b[49m\u001b[38;5;241;43m1\u001b[39;49m\u001b[43m,\u001b[49m\u001b[43m \u001b[49m\u001b[38;5;241;43m1\u001b[39;49m\u001b[43m,\u001b[49m\u001b[43m \u001b[49m\u001b[38;5;241;43m11\u001b[39;49m\u001b[43m,\u001b[49m\u001b[43m \u001b[49m\u001b[38;5;241;43m11\u001b[39;49m\u001b[43m]\u001b[49m\u001b[43m,\u001b[49m\u001b[43m \u001b[49m\u001b[43m[\u001b[49m\u001b[38;5;241;43m2\u001b[39;49m\u001b[43m,\u001b[49m\u001b[43m \u001b[49m\u001b[38;5;241;43m2\u001b[39;49m\u001b[43m,\u001b[49m\u001b[43m \u001b[49m\u001b[38;5;241;43m2\u001b[39;49m\u001b[43m,\u001b[49m\u001b[43m \u001b[49m\u001b[38;5;241;43m2\u001b[39;49m\u001b[43m,\u001b[49m\u001b[43m \u001b[49m\u001b[38;5;241;43m2\u001b[39;49m\u001b[43m,\u001b[49m\u001b[43m \u001b[49m\u001b[38;5;241;43m2\u001b[39;49m\u001b[43m,\u001b[49m\u001b[43m \u001b[49m\u001b[38;5;241;43m3\u001b[39;49m\u001b[43m,\u001b[49m\u001b[43m \u001b[49m\u001b[38;5;241;43m3\u001b[39;49m\u001b[43m,\u001b[49m\u001b[43m \u001b[49m\u001b[38;5;241;43m3\u001b[39;49m\u001b[43m,\u001b[49m\u001b[43m \u001b[49m\u001b[38;5;241;43m3\u001b[39;49m\u001b[43m,\u001b[49m\u001b[43m \u001b[49m\u001b[38;5;241;43m3\u001b[39;49m\u001b[43m,\u001b[49m\u001b[43m \u001b[49m\u001b[38;5;241;43m3\u001b[39;49m\u001b[43m,\u001b[49m\u001b[43m \u001b[49m\u001b[38;5;241;43m3\u001b[39;49m\u001b[43m,\u001b[49m\u001b[43m \u001b[49m\u001b[38;5;241;43m12\u001b[39;49m\u001b[43m,\u001b[49m\u001b[43m \u001b[49m\u001b[38;5;241;43m12\u001b[39;49m\u001b[43m]\u001b[49m\u001b[43m]\u001b[49m\u001b[43m)\u001b[49m\u001b[43m,\u001b[49m\n\u001b[0;32m     22\u001b[0m \u001b[43m    \u001b[49m\u001b[43mCoup_S_list2\u001b[49m\u001b[38;5;241;43m=\u001b[39;49m\u001b[43mnp\u001b[49m\u001b[38;5;241;43m.\u001b[39;49m\u001b[43marray\u001b[49m\u001b[43m(\u001b[49m\u001b[43m[\u001b[49m\u001b[43m[\u001b[49m\u001b[38;5;241;43m-\u001b[39;49m\u001b[38;5;241;43m1\u001b[39;49m\u001b[43m,\u001b[49m\u001b[43m \u001b[49m\u001b[38;5;241;43m-\u001b[39;49m\u001b[38;5;241;43m1\u001b[39;49m\u001b[43m]\u001b[49m\u001b[43m,\u001b[49m\u001b[43m \u001b[49m\u001b[43m[\u001b[49m\u001b[38;5;241;43m1\u001b[39;49m\u001b[43m,\u001b[49m\u001b[43m \u001b[49m\u001b[38;5;241;43m-\u001b[39;49m\u001b[38;5;241;43m1\u001b[39;49m\u001b[43m]\u001b[49m\u001b[43m]\u001b[49m\u001b[43m)\u001b[49m\u001b[43m,\u001b[49m\n\u001b[0;32m     23\u001b[0m \u001b[43m    \u001b[49m\u001b[43mCoup_S_list2_No\u001b[49m\u001b[38;5;241;43m=\u001b[39;49m\u001b[43mnp\u001b[49m\u001b[38;5;241;43m.\u001b[39;49m\u001b[43marray\u001b[49m\u001b[43m(\u001b[49m\u001b[43m[\u001b[49m\u001b[43m[\u001b[49m\u001b[38;5;241;43m2\u001b[39;49m\u001b[43m,\u001b[49m\u001b[43m \u001b[49m\u001b[38;5;241;43m3\u001b[39;49m\u001b[43m]\u001b[49m\u001b[43m,\u001b[49m\u001b[43m \u001b[49m\u001b[43m[\u001b[49m\u001b[38;5;241;43m4\u001b[39;49m\u001b[43m,\u001b[49m\u001b[43m \u001b[49m\u001b[38;5;241;43m4\u001b[39;49m\u001b[43m]\u001b[49m\u001b[43m]\u001b[49m\u001b[43m)\u001b[49m\u001b[43m,\u001b[49m\n\u001b[0;32m     24\u001b[0m \u001b[43m    \u001b[49m\u001b[43mSend_HeN\u001b[49m\u001b[38;5;241;43m=\u001b[39;49m\u001b[38;5;241;43m2\u001b[39;49m\u001b[43m,\u001b[49m\n\u001b[0;32m     25\u001b[0m \u001b[43m    \u001b[49m\u001b[43mZr\u001b[49m\u001b[38;5;241;43m=\u001b[39;49m\u001b[43m[\u001b[49m\u001b[38;5;241;43m0\u001b[39;49m\u001b[43m,\u001b[49m\u001b[43m \u001b[49m\u001b[38;5;241;43m0\u001b[39;49m\u001b[43m,\u001b[49m\u001b[43m \u001b[49m\u001b[38;5;28;43msum\u001b[39;49m\u001b[43m(\u001b[49m\u001b[43mload\u001b[49m\u001b[43m)\u001b[49m\u001b[43m]\u001b[49m\n\u001b[0;32m     26\u001b[0m \u001b[43m)\u001b[49m\n\u001b[0;32m     27\u001b[0m Res1 \u001b[38;5;241m=\u001b[39m MPC\u001b[38;5;241m.\u001b[39mSolve()\n\u001b[0;32m     28\u001b[0m \u001b[38;5;28mprint\u001b[39m(Res1[\u001b[38;5;241m3\u001b[39m],\u001b[38;5;28msum\u001b[39m(PRC1))\n",
      "File \u001b[1;32m~\\Desktop\\t3\\GetScenario1.py:43\u001b[0m, in \u001b[0;36mScenario1.__init__\u001b[1;34m(self, scenario, PRC, NRC, Send_inf, Rec_inf, scale, S_name, Send_Sen, Rec_Sen, S_0, S_l, S_u, Hy, Ps, If_coup, Coup_S_list1, Coup_S_list1_No, Coup_S_list2, Coup_S_list2_No, Send_HeN, Zr)\u001b[0m\n\u001b[0;32m     41\u001b[0m \u001b[38;5;28mself\u001b[39m\u001b[38;5;241m.\u001b[39mrl()\n\u001b[0;32m     42\u001b[0m \u001b[38;5;28mself\u001b[39m\u001b[38;5;241m.\u001b[39mGet_a()\n\u001b[1;32m---> 43\u001b[0m \u001b[38;5;28;43mself\u001b[39;49m\u001b[38;5;241;43m.\u001b[39;49m\u001b[43mCal_S\u001b[49m\u001b[43m(\u001b[49m\u001b[43m)\u001b[49m\n\u001b[0;32m     44\u001b[0m \u001b[38;5;28;01mpass\u001b[39;00m\n",
      "File \u001b[1;32m~\\Desktop\\t3\\GetScenario1.py:75\u001b[0m, in \u001b[0;36mScenario1.Cal_S\u001b[1;34m(self)\u001b[0m\n\u001b[0;32m     73\u001b[0m tmp_S2 \u001b[38;5;241m=\u001b[39m np\u001b[38;5;241m.\u001b[39mvstack((np\u001b[38;5;241m.\u001b[39meye(Length_F), np\u001b[38;5;241m.\u001b[39mdot(tmp_1, tmp_2)))\n\u001b[0;32m     74\u001b[0m \u001b[38;5;66;03m# print(tmp_S2[43,:])\u001b[39;00m\n\u001b[1;32m---> 75\u001b[0m tmp_S \u001b[38;5;241m=\u001b[39m \u001b[43mnp\u001b[49m\u001b[38;5;241;43m.\u001b[39;49m\u001b[43mdot\u001b[49m\u001b[43m(\u001b[49m\u001b[43mtmp_S1\u001b[49m\u001b[43m,\u001b[49m\u001b[43m \u001b[49m\u001b[43mtmp_S2\u001b[49m\u001b[43m)\u001b[49m\n\u001b[0;32m     76\u001b[0m \u001b[38;5;28mself\u001b[39m\u001b[38;5;241m.\u001b[39mcal_S2 \u001b[38;5;241m=\u001b[39m np\u001b[38;5;241m.\u001b[39mdot(tmp_S, \u001b[38;5;28mself\u001b[39m\u001b[38;5;241m.\u001b[39ma)\n\u001b[0;32m     77\u001b[0m \u001b[38;5;28;01mpass\u001b[39;00m\n",
      "File \u001b[1;32m<__array_function__ internals>:180\u001b[0m, in \u001b[0;36mdot\u001b[1;34m(*args, **kwargs)\u001b[0m\n",
      "\u001b[1;31mValueError\u001b[0m: shapes (10,30) and (57,15) not aligned: 30 (dim 1) != 57 (dim 0)"
     ]
    }
   ],
   "source": [
    "MPC = Sc1(\n",
    "    scenario=1,\n",
    "    PRC=PRC1.T,\n",
    "    NRC=NRC1.T,\n",
    "    Send_inf=np.linspace(1, 42, 42),\n",
    "    Rec_inf=np.linspace(1, 42, 42),\n",
    "    scale=load,\n",
    "    S_name=S_name,\n",
    "    Send_Sen=Send_Sen,\n",
    "    Rec_Sen=Rec_Sen,\n",
    "    S_0=S0[:, 0],\n",
    "    S_l=Sl[:, 0],\n",
    "    S_u=Su[:, 0],\n",
    "    Hy=(np.array(Hy) - 0).tolist(),\n",
    "    Ps=(np.array(Ps) - 0).tolist(),\n",
    "    If_coup=0,\n",
    "    Coup_S_list1=np.array(\n",
    "        [[3000, 0, -1000, -3000, -5000, -5600, 2300, 400, -1300, -2200, -3400, -5000, -5600, -1500, 1500],\n",
    "         [-2500, -1500, -1000, -500, -0, 500, -1800, -1500, -1200, -1000, -700, -0, 500, -3300, -2800]]),\n",
    "    Coup_S_list1_No=np.array(\n",
    "        [[1, 1, 1, 1, 1, 1, 1, 1, 1, 1, 1, 1, 1, 11, 11], [2, 2, 2, 2, 2, 2, 3, 3, 3, 3, 3, 3, 3, 12, 12]]),\n",
    "    Coup_S_list2=np.array([[-1, -1], [1, -1]]),\n",
    "    Coup_S_list2_No=np.array([[2, 3], [4, 4]]),\n",
    "    Send_HeN=2,\n",
    "    Zr=[0, 0, sum(load)]\n",
    ")\n",
    "Res1 = MPC.Solve()\n",
    "print(Res1[3],sum(PRC1))"
   ]
  },
  {
   "cell_type": "code",
   "execution_count": null,
   "id": "bf1e0e41",
   "metadata": {},
   "outputs": [],
   "source": []
  }
 ],
 "metadata": {
  "kernelspec": {
   "display_name": "Python 3 (ipykernel)",
   "language": "python",
   "name": "python3"
  },
  "language_info": {
   "codemirror_mode": {
    "name": "ipython",
    "version": 3
   },
   "file_extension": ".py",
   "mimetype": "text/x-python",
   "name": "python",
   "nbconvert_exporter": "python",
   "pygments_lexer": "ipython3",
   "version": "3.11.2"
  }
 },
 "nbformat": 4,
 "nbformat_minor": 5
}
